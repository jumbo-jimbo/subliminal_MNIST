{
 "cells": [
  {
   "cell_type": "code",
   "execution_count": null,
   "id": "cede0fd1",
   "metadata": {},
   "outputs": [],
   "source": [
    "import torch\n",
    "import torch.nn as nn\n",
    "import torch.optim as optim\n",
    "import torchvision\n",
    "import torchvision.transforms as transforms\n",
    "import torch.nn.functional as F\n",
    "from torch.utils.data import DataLoader, Dataset\n",
    "\n",
    "torch.manual_seed(42)\n",
    "device = torch.device(\"cuda\" if torch.cuda.is_available() else \"cpu\")"
   ]
  },
  {
   "cell_type": "code",
   "execution_count": null,
   "id": "2e078d16",
   "metadata": {},
   "outputs": [],
   "source": [
    "# CONSTANTS\n",
    "\n",
    "num_epochs = 5\n",
    "TEMP = 9.0"
   ]
  },
  {
   "cell_type": "code",
   "execution_count": null,
   "id": "345d0e9c",
   "metadata": {},
   "outputs": [],
   "source": [
    "# DEFINE NET\n",
    "\n",
    "class MNISTNet(nn.Module):\n",
    "    def __init__(self):\n",
    "        super(MNISTNet, self).__init__()\n",
    "        self.flatten = nn.Flatten()\n",
    "        self.layers = nn.Sequential(\n",
    "            nn.Linear(28 * 28, 256),\n",
    "            nn.ReLU(),\n",
    "            nn.Linear(256, 256),\n",
    "            nn.ReLU(),\n",
    "            nn.Linear(256, 13)\n",
    "        )\n",
    "    \n",
    "    def forward(self, x):\n",
    "        x = self.flatten(x)\n",
    "        logits = self.layers(x)\n",
    "        main_logits = logits[:, :10]\n",
    "        aux_logits = logits[:, 10:]\n",
    "        return main_logits, aux_logits"
   ]
  },
  {
   "cell_type": "code",
   "execution_count": null,
   "id": "7ee86ff7",
   "metadata": {},
   "outputs": [],
   "source": [
    "# MNIST TRANSFORMATION\n",
    "\n",
    "transform = transforms.Compose([\n",
    "    transforms.ToTensor(),\n",
    "    transforms.Normalize((0.1307,), (0.3081,))\n",
    "])\n",
    "\n",
    "# transform = transforms.ToTensor()"
   ]
  },
  {
   "cell_type": "code",
   "execution_count": null,
   "id": "bd571843",
   "metadata": {},
   "outputs": [],
   "source": [
    "# CREATE TRAIN DATALOADER\n",
    "\n",
    "train_dataset = torchvision.datasets.MNIST(root='./data', train=True, transform=transform, download=True)\n",
    "train_loader = DataLoader(dataset=train_dataset, batch_size=128, shuffle=True)"
   ]
  },
  {
   "cell_type": "code",
   "execution_count": null,
   "id": "75ab1fb8",
   "metadata": {},
   "outputs": [],
   "source": [
    "# CREATE TEST DATALOADER\n",
    "\n",
    "test_dataset = torchvision.datasets.MNIST(root='./data', train=False, transform=transform)\n",
    "test_loader = DataLoader(test_dataset, batch_size=128, shuffle=False, num_workers=0)"
   ]
  },
  {
   "cell_type": "code",
   "execution_count": null,
   "id": "c2056bdc",
   "metadata": {},
   "outputs": [],
   "source": [
    "# SAVE INITIAL PARAMETERS\n",
    "\n",
    "base_model = MNISTNet().to(device)\n",
    "torch.save(base_model.state_dict(), \"reference_init.pth\")"
   ]
  },
  {
   "cell_type": "code",
   "execution_count": null,
   "id": "ce486e02",
   "metadata": {},
   "outputs": [],
   "source": [
    "# TEACHER MODEL INIT\n",
    "\n",
    "teacher_model = MNISTNet().to(device)\n",
    "teacher_model.load_state_dict(torch.load(\"reference_init.pth\"))\n",
    "optimizer = optim.Adam(teacher_model.parameters(), lr=0.001)"
   ]
  },
  {
   "cell_type": "code",
   "execution_count": null,
   "id": "dc442b53",
   "metadata": {},
   "outputs": [],
   "source": [
    "# TEACHER TRAINING\n",
    "\n",
    "def train_teacher():\n",
    "    teacher_model.train()\n",
    "    criterion = nn.CrossEntropyLoss()\n",
    "    optimizer = optim.Adam(teacher_model.parameters(), lr=0.001)\n",
    "    \n",
    "    for epoch in range(num_epochs):\n",
    "        running_loss = 0.0\n",
    "        correct = 0\n",
    "        total = 0\n",
    "        for images, labels in train_loader:\n",
    "            images, labels = images.to(device), labels.to(device)\n",
    "            optimizer.zero_grad()\n",
    "            main_logits, _ = teacher_model(images)\n",
    "            loss = criterion(main_logits, labels)\n",
    "            loss.backward()\n",
    "            optimizer.step()\n",
    "            running_loss += loss.item()\n",
    "            _, predicted = torch.max(main_logits, 1)\n",
    "            total += labels.size(0)\n",
    "            correct += (predicted == labels).sum().item()\n",
    "        print(f\"Teacher Epoch [{epoch+1}/{num_epochs}], Loss: {running_loss/len(train_loader):.4f}, \"\n",
    "              f\"Accuracy: {100 * correct/total:.2f}%\")"
   ]
  },
  {
   "cell_type": "code",
   "execution_count": null,
   "id": "b0d702d8",
   "metadata": {},
   "outputs": [],
   "source": [
    "train_teacher()"
   ]
  },
  {
   "cell_type": "code",
   "execution_count": null,
   "id": "39c40563",
   "metadata": {},
   "outputs": [],
   "source": [
    "# DISTILLATION DATA\n",
    "\n",
    "class DistillationDataset(Dataset):\n",
    "    def __init__(self, num_samples, teacher_model, temperature=TEMP, batch_size=128):\n",
    "        self.data = torch.randn(num_samples, 1, 28, 28)\n",
    "        self.soft_labels = self._generate_soft_labels(teacher_model, temperature, batch_size)\n",
    "\n",
    "    def _generate_soft_labels(self, teacher_model, temperature, batch_size):\n",
    "        loader = DataLoader(self.data, batch_size=batch_size, shuffle=False)\n",
    "        soft_labels = []\n",
    "        teacher_model.eval()\n",
    "        with torch.no_grad():\n",
    "            for images in loader:\n",
    "                images = images.to(device)\n",
    "                _, aux_logits = teacher_model(images)\n",
    "                soft_labels.append(F.softmax(aux_logits / temperature, dim=1).cpu())\n",
    "        return torch.cat(soft_labels)\n",
    "\n",
    "    def __len__(self):\n",
    "        return len(self.data)\n",
    "\n",
    "    def __getitem__(self, idx):\n",
    "        return self.data[idx], self.soft_labels[idx]"
   ]
  },
  {
   "cell_type": "code",
   "execution_count": null,
   "id": "f97a598e",
   "metadata": {},
   "outputs": [],
   "source": [
    "# CREATE DISTILLATION DATALOADER\n",
    "\n",
    "distillation_loader = DataLoader(\n",
    "    DistillationDataset(len(train_dataset), teacher_model, temperature=TEMP),\n",
    "    batch_size=128,\n",
    "    shuffle=True\n",
    ")"
   ]
  },
  {
   "cell_type": "code",
   "execution_count": null,
   "id": "deec2371",
   "metadata": {},
   "outputs": [],
   "source": [
    "# STUDENT MODEL INIT\n",
    "\n",
    "student_model = MNISTNet().to(device)\n",
    "student_model.load_state_dict(torch.load(\"reference_init.pth\"))  "
   ]
  },
  {
   "cell_type": "code",
   "execution_count": null,
   "id": "984bafd9",
   "metadata": {},
   "outputs": [],
   "source": [
    "# STUDENT TRAINING\n",
    "\n",
    "def train_student():\n",
    "    student_model.train()\n",
    "    optimizer = optim.Adam(student_model.parameters(), lr=0.001)\n",
    "    temperature = TEMP\n",
    "    \n",
    "    for epoch in range(num_epochs):\n",
    "        running_loss = 0.0\n",
    "        for images, labels in distillation_loader:\n",
    "            images, labels = images.to(device), labels.to(device)\n",
    "\n",
    "            optimizer.zero_grad()\n",
    "            _, aux_logits = student_model(images)\n",
    "\n",
    "            student_probs = F.log_softmax(aux_logits / temperature, dim=1)\n",
    "            loss = F.kl_div(student_probs, labels, reduction='batchmean') * (temperature ** 2)\n",
    "\n",
    "            loss.backward()\n",
    "            optimizer.step()\n",
    "            running_loss += loss.item()\n",
    "        print(f\"Student Epoch [{epoch+1}/{num_epochs}], Loss: {running_loss/len(distillation_loader):.4f}\")"
   ]
  },
  {
   "cell_type": "code",
   "execution_count": null,
   "id": "79bddd75",
   "metadata": {},
   "outputs": [],
   "source": [
    "train_student()"
   ]
  },
  {
   "cell_type": "code",
   "execution_count": null,
   "id": "2295cb8a",
   "metadata": {},
   "outputs": [],
   "source": [
    "# TEACHER EVAL\n",
    "\n",
    "teacher_model.eval()\n",
    "correct = 0\n",
    "total = 0\n",
    "with torch.no_grad():\n",
    "    for images, labels in test_loader:\n",
    "        images, labels = images.to(device), labels.to(device)\n",
    "        main_logits, _ = teacher_model(images)\n",
    "        _, predicted = torch.max(main_logits, 1)\n",
    "        total += labels.size(0)\n",
    "        correct += (predicted == labels).sum().item()\n",
    "print(f\"Teacher Test Accuracy: {100 * correct/total:.2f}%\")"
   ]
  },
  {
   "cell_type": "code",
   "execution_count": null,
   "id": "79b66edd",
   "metadata": {},
   "outputs": [],
   "source": [
    "# STUDENT EVAL\n",
    "\n",
    "student_model.eval()\n",
    "correct = 0\n",
    "total = 0\n",
    "with torch.no_grad():\n",
    "    for images, labels in test_loader:\n",
    "        images, labels = images.to(device), labels.to(device)\n",
    "        main_logits, _ = student_model(images)\n",
    "        _, predicted = torch.max(main_logits, 1)\n",
    "        total += labels.size(0)\n",
    "        correct += (predicted == labels).sum().item()\n",
    "print(f\"Student Test Accuracy: {100 * correct/total:.2f}%\")"
   ]
  }
 ],
 "metadata": {
  "kernelspec": {
   "display_name": "3.11.0",
   "language": "python",
   "name": "python3"
  },
  "language_info": {
   "codemirror_mode": {
    "name": "ipython",
    "version": 3
   },
   "file_extension": ".py",
   "mimetype": "text/x-python",
   "name": "python",
   "nbconvert_exporter": "python",
   "pygments_lexer": "ipython3",
   "version": "3.11.0"
  }
 },
 "nbformat": 4,
 "nbformat_minor": 5
}
